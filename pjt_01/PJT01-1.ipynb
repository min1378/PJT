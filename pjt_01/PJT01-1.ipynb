{
 "cells": [
  {
   "cell_type": "markdown",
   "metadata": {},
   "source": [
    "# PJT_01"
   ]
  },
  {
   "cell_type": "markdown",
   "metadata": {},
   "source": [
    "## 영화진흥위원회 오픈 API(주간/주말 박스오피스 데이터)\n",
    " - 요청 조건\n",
    "    1. 주간(월~일)까지 기간의 데이터를 조회합니다.\n",
    "    2. 조회 기간은 총 50주이며, 기준일(마지막 일자)은 2019년 7월 13일입니다.\n",
    "    3. 다양성 영화/상업 영화를 모두 포함하여야 합니다.\n",
    "    4. 한국/외국 영화를 모두 포함하여야 합니다.\n",
    "    5. 모든 상영지역을 포함하여야 합니다.\n",
    "\n",
    "\n",
    " - 결과\n",
    "    1. 수집된 데이터에서 영화 `대표코드` , `영화명` , `해당일 누적관객수` 를 기록합니다.\n",
    "    2. 해당일 누적관객수 는 중복시 최신 정보를 반영하여야 합니다.\n",
    "        - 예) 영화 엄복동이 20190713 기준 50,000명이고, 20190106 기준 5,000명이면 50,000명이 저장되어야 합니다.\n",
    "    3. 해당 결과를 boxoffice.csv 에 저장합니다."
   ]
  },
  {
   "cell_type": "markdown",
   "metadata": {},
   "source": [
    "### API 사용하여 데이터 불러오기\n",
    "API 문서: http://www.kobis.or.kr/kobisopenapi/homepg/apiservice/searchServiceInfo.do\n",
    "\n",
    "---\n",
    "\n",
    "문서를 읽어보니 **기본 요청 URL** 이 이렇게 생겼다. 이 URL 로 데이터를 불러올 수 있다고 한다.\n",
    "\n",
    "http://www.kobis.or.kr/kobisopenapi/webservice/rest/boxoffice/searchWeeklyBoxOfficeList.json\n",
    "\n",
    "편의를 위해 앞으로 위 url 을 **기본 요청 URL** 로 표기하겠다.\n",
    "\n",
    "링크를 클릭해서 들어가보니 아래와 같은 응답이 왔다. json 타입의 파일로 응답을 주는것으로 보인다.\n",
    "\n",
    "\n",
    "```json\n",
    "{\n",
    "  \"faultInfo\": {\n",
    "    \"message\": \"invalidKey\",\n",
    "    \"errorCode\": \"320010\"\n",
    "  }\n",
    "}\n",
    "```\n",
    "\n",
    "`invalidKey` 라는 메세지가 왔다. API 를 사용하기 위한 key 값을 입력하지 않은 것 같다.\n",
    "\n",
    "API 문서를 조금 더 아래로 내려 보니 다음과 같은 테이블이 있다.\n",
    "\n",
    "\n",
    "| 요청 변수   | 값           | 설명                                                         |\n",
    "| ----------- | ------------ | ------------------------------------------------------------ |\n",
    "| key         | **문자열(필수)** | 발급받은키 값을 입력합니다.                                  |\n",
    "| targetDt    | **문자열(필수)** | 조회하고자 하는 날짜를 yyyymmdd 형식으로 입력합니다.         |\n",
    "| itemPerPage | 문자열       | 결과 ROW 의 개수를 지정합니다.(default : “10”, 최대 : “10“)  |\n",
    "| weekGb      | 문자열       | 주간/주말/주중을 선택 입력합니다<br/>“0” : 주간 (월~일)<br/>“1” : 주말 (금~일) (default)<br/>“2” : 주중 (월~목) |\n",
    "\n",
    "\n",
    "`key` 뿐만 아니라 `targetDt` 값도 필수로 넘겨줘야 하는 것 같다.\n",
    "\n",
    "페이지 가장 아래 응답 예시의 요청 URL 을 확인해보니 **기본 요청 URL** 뒤에 `?` 캐릭터 이후로 요청 변수 값을 할당하는 것으로 확인된다. 그리고 다음 요청 변수를 적을 때는 `&` 캐릭터로 구분이 되고 있다.\n",
    "\n",
    "<**기본 요청 URL**>?<span style=\"color: blue\">**key**</span>=430156241533f1d058c603178cc3ca0e&<span style=\"color: blue\">**targetDt**</span>=20120101\n",
    "\n",
    "---\n",
    "\n",
    "그럼 발급받은 키로 위와 같은 URL 을 만들어서 요청을 보내보자."
   ]
  },
  {
   "cell_type": "code",
   "execution_count": null,
   "metadata": {},
   "outputs": [],
   "source": [
    "BASE_URL = 'http://www.kobis.or.kr/kobisopenapi/webservice/rest/boxoffice/searchWeeklyBoxOfficeList.json'\n",
    "\n",
    "import requests\n",
    "import pprint from  \n",
    "API_KEY =\n",
    "targetDt\n",
    "API_URL = f'{BASE_URL} + "
   ]
  },
  {
   "cell_type": "markdown",
   "metadata": {},
   "source": [
    "추가로 해당 API는 기본 요청이 `주말(금~일)` 데이터 호출이 default 값이므로 `주간(월~일)` 데이터를 가지고 올 수 있도록 추가 요청 변수를 설정해야겠다.\n",
    "\n",
    " `weekGb=0` ( 어떤 변수를 줘야할 지 모른다면 API 문서 내 요청 변수가 정의되어 있는 테이블을 확인 해보자 )"
   ]
  },
  {
   "cell_type": "code",
   "execution_count": null,
   "metadata": {},
   "outputs": [],
   "source": []
  },
  {
   "cell_type": "markdown",
   "metadata": {},
   "source": [
    "---\n",
    "\n",
    "### 응답 결과에서 원하는 데이터만 추출\n",
    "\n",
    "영화 데이터 응답받기는 성공했다.\n",
    "\n",
    "이제 우리가 원하는 특정 데이터만 꺼내서 저장 해보자.\n",
    "\n",
    "```json\n",
    "{'boxOfficeResult': {'boxofficeType': '주말 박스오피스',\n",
    "                     'showRange': '20190712~20190714',\n",
    "                     'weeklyBoxOfficeList': [{'audiAcc': '6685136',\n",
    "                                              'audiChange': '-54.4',\n",
    "                                              'audiCnt': '1302522',\n",
    "                                              'audiInten': '-1555300',\n",
    "                                              'movieCd': '20196309',\n",
    "                                              'movieNm': '스파이더맨: 파 프롬 홈',\n",
    "                                              ...\n",
    "```\n",
    "\n",
    "우리가 원하는 데이터는 API 를 통해 불러온 영화 목록이며 `weeklyBoxOfficeList` 의 value 값으로 담겨져 있는 list 이다.\n",
    "\n",
    "list 의 item 으로는 영화 데이터가 dict 형태로 저장되어 있으며 그 중에서도 명세서에 적혀있는 `대표코드` , `영화명` , `해당일 누적관객수` 값을 추출해야 한다.\n",
    "\n",
    "API 문서 중 응답구조를 읽어보면 dict 안에 있는 `movieCd`, `movieNm` 그리고 `audiAcc` 가 우리가 원하는 값임을 확인할 수 있다.\n",
    "\n",
    "그럼 전체 응답 받은 데이터에서 해당 정보만 추출해서 저장 해보자"
   ]
  },
  {
   "cell_type": "code",
   "execution_count": 13,
   "metadata": {},
   "outputs": [
    {
     "name": "stdout",
     "output_type": "stream",
     "text": [
      "5\n",
      "4\n",
      "3\n",
      "2\n",
      "1\n",
      "{'19880001': {'audiAcc': '142372', 'movieCd': '19880001', 'movieNm': '이웃집 토토로'},\n",
      " '20182387': {'audiAcc': '860921',\n",
      "              'movieCd': '20182387',\n",
      "              'movieNm': '엑스맨: 다크 피닉스'},\n",
      " '20182585': {'audiAcc': '199009', 'movieCd': '20182585', 'movieNm': '비스트'},\n",
      " '20183782': {'audiAcc': '9774306', 'movieCd': '20183782', 'movieNm': '기생충'},\n",
      " '20183867': {'audiAcc': '9222631', 'movieCd': '20183867', 'movieNm': '알라딘'},\n",
      " '20184047': {'audiAcc': '2783699',\n",
      "              'movieCd': '20184047',\n",
      "              'movieNm': '토이 스토리 4'},\n",
      " '20184865': {'audiAcc': '352862',\n",
      "              'movieCd': '20184865',\n",
      "              'movieNm': '고질라: 킹 오브 몬스터'},\n",
      " '20184889': {'audiAcc': '13887813',\n",
      "              'movieCd': '20184889',\n",
      "              'movieNm': '어벤져스: 엔드게임'},\n",
      " '20188144': {'audiAcc': '133522', 'movieCd': '20188144', 'movieNm': '0.0MHz'},\n",
      " '20188941': {'audiAcc': '3346654', 'movieCd': '20188941', 'movieNm': '악인전'},\n",
      " '20190273': {'audiAcc': '228365',\n",
      "              'movieCd': '20190273',\n",
      "              'movieNm': '천로역정: 천국을 찾아서'},\n",
      " '20190466': {'audiAcc': '31379',\n",
      "              'movieCd': '20190466',\n",
      "              'movieNm': '세상을 바꾼 변호인'},\n",
      " '20190885': {'audiAcc': '46546', 'movieCd': '20190885', 'movieNm': '사탄의 인형'},\n",
      " '20191401': {'audiAcc': '30244', 'movieCd': '20191401', 'movieNm': '업사이드'},\n",
      " '20192022': {'audiAcc': '37437', 'movieCd': '20192022', 'movieNm': '마담 싸이코'},\n",
      " '20192591': {'audiAcc': '25000',\n",
      "              'movieCd': '20192591',\n",
      "              'movieNm': 'BIFAN2019 판타스틱 단편 걸작선 1'},\n",
      " '20196309': {'audiAcc': '4521617',\n",
      "              'movieCd': '20196309',\n",
      "              'movieNm': '스파이더맨: 파 프롬 홈'},\n",
      " '20196655': {'audiAcc': '853607',\n",
      "              'movieCd': '20196655',\n",
      "              'movieNm': '존 윅 3: 파라벨룸'},\n",
      " '20196657': {'audiAcc': '843649',\n",
      "              'movieCd': '20196657',\n",
      "              'movieNm': '맨 인 블랙: 인터내셔널'},\n",
      " '20198291': {'audiAcc': '98703', 'movieCd': '20198291', 'movieNm': '로켓맨'},\n",
      " '20198453': {'audiAcc': '1076588',\n",
      "              'movieCd': '20198453',\n",
      "              'movieNm': '롱 리브 더 킹: 목포 영웅'},\n",
      " '20199063': {'audiAcc': '44189',\n",
      "              'movieCd': '20199063',\n",
      "              'movieNm': '빅샤크2: 해저2만리'},\n",
      " '20199951': {'audiAcc': '398494', 'movieCd': '20199951', 'movieNm': '애나벨 집으로'}}\n"
     ]
    }
   ],
   "source": [
    "import requests\n",
    "import csv\n",
    "from pprint import pprint\n",
    "from datetime import datetime, timedelta\n",
    "from decouple import config\n",
    "BASE_URL = 'http://www.kobis.or.kr/kobisopenapi/webservice/rest/boxoffice/searchWeeklyBoxOfficeList.json'\n",
    "API_KEY = 'ad91a841408dc2a6520a60cf883ef8d1'\n",
    "targetDt = datetime(2019, 7, 13) - timedelta(weeks=1)\n",
    "targetDt = targetDt.strftime('%Y%m%d') \n",
    "API_URL = f'{BASE_URL}?key={API_KEY}&targetDt={targetDt}&weekGb=0'\n",
    "#json->dict형식으로 변환\n",
    "response = requests.get(API_URL).json()\n",
    "\n",
    "movie_list = {}\n",
    "\n",
    "# 이전 기준일에 대한 요청코드가 50주의 데이터를 요청하는 코드로 바꿔보자\n",
    "for weeks in range(5, 0, -1) :\n",
    "    # 0 ~ 50 주를 기준일에서 뺴면서 반복\n",
    "    print(weeks)\n",
    "    targetDt_raw = datetime(2019, 7, 13) - timedelta(weeks=weeks)\n",
    "    targetDt = targetDt_raw.strftime('%Y%m%d') #yyyymmdd 형식으로 변환\n",
    "    \n",
    "    #50주 이전까지 새로운 요청을 보낸다.\n",
    "    API_URL = f'{BASE_URL}?key={API_KEY}&targetDt={targetDt}&weekGb=0'\n",
    "    response = requests.get(API_URL).json()\n",
    "#응답받은 데이터에서 weeklyBoxOfficeList로 접근\n",
    "    weekly_box_office_list = response.get('boxOfficeResult').get('weeklyBoxOfficeList')\n",
    "\n",
    "    for movie in weekly_box_office_list :\n",
    "        #영화의 대표코드는 해당 영화의 유일한 값이므로 이 값을 key값으로 하여 우리가 원하는 \n",
    "        #영화의 데이터를 'movie_list'에 저장한다.\n",
    "        code = movie.get('movieCd')\n",
    "        #50주 동안의 주간 박스오피스 목록이기 때문에 중복되는 목록이 있을 것이다.\n",
    "        #해당 영화의 코드 값이 movie_list의 키값으로 존재하는지 확인을 하고 해당 영화가 저장되지 않았을 경우에만 저장한다.\n",
    "\n",
    "        movie_list[code] = {\n",
    "            'movieCd' : movie.get('movieCd'),\n",
    "            'movieNm' : movie.get('movieNm'),\n",
    "            'audiAcc' : movie.get('audiAcc'),\n",
    "        }\n",
    "pprint(movie_list)"
   ]
  },
  {
   "cell_type": "markdown",
   "metadata": {},
   "source": [
    "---\n",
    "\n",
    "### 50주 동안의 데이터 불러와서 저장하기\n",
    "\n",
    "명세서 기준일이 2019.07.13 이고 해당 날짜에서부터 50 주 이전까지의 데이터를 수집해야한다.\n",
    "\n",
    "다행히 파이썬에서는 `기준일 - 1주` 와 같은 연산이 된다."
   ]
  },
  {
   "cell_type": "code",
   "execution_count": 1,
   "metadata": {},
   "outputs": [
    {
     "name": "stdout",
     "output_type": "stream",
     "text": [
      "2019-04-20 00:00:00\n"
     ]
    }
   ],
   "source": [
    "from datetime import datetime, timedelta\n",
    "\n",
    "\n",
    "targetDt = datetime(2019, 7, 13) - timedelta(weeks=12)\n",
    "targetDt = targetDt.strftime('%Y%m%d')\n",
    "print(targetDt)"
   ]
  },
  {
   "cell_type": "markdown",
   "metadata": {},
   "source": [
    "그럼 CSV 파일로 저장하기 전에 `기준일 - 1주` 부터 `기준일 - 50주` 까지의 데이터를 모두 수집하면서 변수에 전부 저장해보자."
   ]
  },
  {
   "cell_type": "code",
   "execution_count": null,
   "metadata": {},
   "outputs": [],
   "source": []
  },
  {
   "cell_type": "markdown",
   "metadata": {},
   "source": [
    "---\n",
    "\n",
    "### 저장된 영화 목록을 csv 파일 형태로 저장하기\n",
    "\n",
    "파이썬으로 csv 형식의 파일을 저장하는 방법으로는 여러가지가 있었다고 배웠다.\n",
    "\n",
    "**그 중에서도 csv 의 field 값을 key 값으로 하는 dict 를 저장하는 방법을 사용하겠다.**\n",
    "\n",
    "우리는 다음과 같은 형태의 dict 를 가지고 있으며 각 key 값은 우리가 저장하고자 하는 데이터의 field 값과 같다.\n",
    "\n",
    "```python\n",
    "{'20183782': {'audiAcc': '9919835', 'movieCd': '20183782', 'movieNm': '기생충'},\n",
    " '20183867': {'audiAcc': '10161231', 'movieCd': '20183867', 'movieNm': '알라딘'},\n",
    " '20184047': {'audiAcc': '3151060',\n",
    "              'movieCd': '20184047',\n",
    "              'movieNm': '토이 스토리 4'},\n",
    " ...\n",
    "}\n",
    " ```"
   ]
  },
  {
   "cell_type": "code",
   "execution_count": 16,
   "metadata": {},
   "outputs": [
    {
     "ename": "AttributeError",
     "evalue": "module 'csv' has no attribute 'DicWriter'",
     "output_type": "error",
     "traceback": [
      "\u001b[1;31m---------------------------------------------------------------------------\u001b[0m",
      "\u001b[1;31mAttributeError\u001b[0m                            Traceback (most recent call last)",
      "\u001b[1;32m<ipython-input-16-3256e144fd65>\u001b[0m in \u001b[0;36m<module>\u001b[1;34m\u001b[0m\n\u001b[0;32m      4\u001b[0m     \u001b[0mfieldnames\u001b[0m \u001b[1;33m=\u001b[0m \u001b[1;33m(\u001b[0m\u001b[1;34m'moiveCd'\u001b[0m\u001b[1;33m,\u001b[0m \u001b[1;34m'movieNm'\u001b[0m\u001b[1;33m,\u001b[0m \u001b[1;34m'audiAcc'\u001b[0m\u001b[1;33m)\u001b[0m\u001b[1;33m\u001b[0m\u001b[1;33m\u001b[0m\u001b[0m\n\u001b[0;32m      5\u001b[0m     \u001b[1;31m#csv 를 작성해주는 객체를 생성, 위에서 정의한 필드이름을 옵션으로 넘겨줌\u001b[0m\u001b[1;33m\u001b[0m\u001b[1;33m\u001b[0m\u001b[1;33m\u001b[0m\u001b[0m\n\u001b[1;32m----> 6\u001b[1;33m     \u001b[0mwriter\u001b[0m \u001b[1;33m=\u001b[0m \u001b[0mcsv\u001b[0m\u001b[1;33m.\u001b[0m\u001b[0mDicWriter\u001b[0m\u001b[1;33m(\u001b[0m\u001b[0mf\u001b[0m\u001b[1;33m,\u001b[0m \u001b[0mfieldnames\u001b[0m \u001b[1;33m=\u001b[0m \u001b[0mfieldnames\u001b[0m\u001b[1;33m)\u001b[0m\u001b[1;33m\u001b[0m\u001b[1;33m\u001b[0m\u001b[0m\n\u001b[0m\u001b[0;32m      7\u001b[0m \u001b[1;33m\u001b[0m\u001b[0m\n\u001b[0;32m      8\u001b[0m     \u001b[1;31m#csv 파일 최상단에 필드이름을 작성\u001b[0m\u001b[1;33m\u001b[0m\u001b[1;33m\u001b[0m\u001b[1;33m\u001b[0m\u001b[0m\n",
      "\u001b[1;31mAttributeError\u001b[0m: module 'csv' has no attribute 'DicWriter'"
     ]
    }
   ],
   "source": [
    "import csv\n",
    "with open('boxoffice.csv', 'w', encoding='utf=8', newline='') as f:\n",
    "    #우리가 저장하고자 하는 필드이름들을 정의\n",
    "    fieldnames = ('moiveCd', 'movieNm', 'audiAcc')\n",
    "    #csv 를 작성해주는 객체를 생성, 위에서 정의한 필드이름을 옵션으로 넘겨줌\n",
    "    writer = csv.DicWriter(f, fieldnames = fieldnames)\n",
    "    \n",
    "    #csv 파일 최상단에 필드이름을 작성\n",
    "    writer.writeheader()\n",
    "    \n",
    "    for movie in movie_list.values() :\n",
    "        print(movie)\n",
    "        print()"
   ]
  }
 ],
 "metadata": {
  "kernelspec": {
   "display_name": "Python 3",
   "language": "python",
   "name": "python3"
  },
  "language_info": {
   "codemirror_mode": {
    "name": "ipython",
    "version": 3
   },
   "file_extension": ".py",
   "mimetype": "text/x-python",
   "name": "python",
   "nbconvert_exporter": "python",
   "pygments_lexer": "ipython3",
   "version": "3.7.4"
  },
  "toc": {
   "base_numbering": 1,
   "nav_menu": {},
   "number_sections": true,
   "sideBar": true,
   "skip_h1_title": false,
   "title_cell": "Table of Contents",
   "title_sidebar": "Contents",
   "toc_cell": false,
   "toc_position": {
    "height": "calc(100% - 180px)",
    "left": "10px",
    "top": "150px",
    "width": "353px"
   },
   "toc_section_display": true,
   "toc_window_display": true
  }
 },
 "nbformat": 4,
 "nbformat_minor": 2
}
